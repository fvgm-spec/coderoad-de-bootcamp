{
  "nbformat": 4,
  "nbformat_minor": 0,
  "metadata": {
    "colab": {
      "provenance": [],
      "include_colab_link": true
    },
    "kernelspec": {
      "name": "python3",
      "display_name": "Python 3"
    },
    "language_info": {
      "name": "python"
    }
  },
  "cells": [
    {
      "cell_type": "markdown",
      "metadata": {
        "id": "view-in-github",
        "colab_type": "text"
      },
      "source": [
        "<a href=\"https://colab.research.google.com/github/fvgm-spec/coderoad-de-bootcamp/blob/main/001_read_csv.ipynb\" target=\"_parent\"><img src=\"https://colab.research.google.com/assets/colab-badge.svg\" alt=\"Open In Colab\"/></a>"
      ]
    },
    {
      "cell_type": "markdown",
      "source": [
        "## Connect Google Drive"
      ],
      "metadata": {
        "id": "-CzLoSl95Eeb"
      }
    },
    {
      "cell_type": "code",
      "execution_count": null,
      "metadata": {
        "colab": {
          "base_uri": "https://localhost:8080/"
        },
        "id": "Ygl50kti3Pxm",
        "outputId": "135e8266-3384-4ffc-e7e6-6b93a2da68e5"
      },
      "outputs": [
        {
          "output_type": "stream",
          "name": "stdout",
          "text": [
            "Mounted at /content/drive\n"
          ]
        }
      ],
      "source": [
        "from google.colab import drive\n",
        "\n",
        "drive.mount('/content/drive')"
      ]
    },
    {
      "cell_type": "code",
      "source": [
        "## Intialize PySpark"
      ],
      "metadata": {
        "id": "cZgKYefL6vSD"
      },
      "execution_count": null,
      "outputs": []
    },
    {
      "cell_type": "code",
      "source": [
        "!pip install pyspark\n",
        "!pip install -q findspark"
      ],
      "metadata": {
        "colab": {
          "base_uri": "https://localhost:8080/"
        },
        "id": "xY6xAyY5Vahg",
        "outputId": "4f3de5a6-382a-4814-c46c-98f37a7340bb"
      },
      "execution_count": null,
      "outputs": [
        {
          "output_type": "stream",
          "name": "stdout",
          "text": [
            "Requirement already satisfied: pyspark in /usr/local/lib/python3.10/dist-packages (3.5.3)\n",
            "Requirement already satisfied: py4j==0.10.9.7 in /usr/local/lib/python3.10/dist-packages (from pyspark) (0.10.9.7)\n"
          ]
        }
      ]
    },
    {
      "cell_type": "code",
      "source": [
        "import findspark\n",
        "from pyspark.sql import SparkSession\n",
        "import pyspark\n",
        "\n",
        "findspark.init()\n",
        "spark = SparkSession.builder.master(\"local[*]\").appName(\"Spark Session\").getOrCreate()"
      ],
      "metadata": {
        "id": "CQWFaspUVEXh"
      },
      "execution_count": null,
      "outputs": []
    },
    {
      "cell_type": "markdown",
      "source": [
        "## Read CSV"
      ],
      "metadata": {
        "id": "fCq76GV_7ehg"
      }
    },
    {
      "cell_type": "code",
      "source": [
        "products = (spark.read.format(\"csv\")\n",
        "  .option(\"header\", \"true\")\n",
        "  .option(\"inferSchema\", \"true\")\n",
        "  .load('/content/drive/MyDrive/renan_coderoad_databootcamp_2025/data/PRODUCTS.csv')\n",
        "  )\n",
        "\n",
        "products.printSchema()\n",
        "products.show()"
      ],
      "metadata": {
        "colab": {
          "base_uri": "https://localhost:8080/"
        },
        "id": "1ifQ2_k4VouX",
        "outputId": "a884fe98-2413-4ef9-a0e0-573362f032c4"
      },
      "execution_count": null,
      "outputs": [
        {
          "output_type": "stream",
          "name": "stdout",
          "text": [
            "root\n",
            " |-- gtin: long (nullable = true)\n",
            " |-- categoryParent: string (nullable = true)\n",
            " |-- colorLabel: integer (nullable = true)\n",
            " |-- modelLabel: string (nullable = true)\n",
            " |-- productLabelLong: string (nullable = true)\n",
            " |-- sizeLabel: string (nullable = true)\n",
            " |-- productCode: long (nullable = true)\n",
            "\n",
            "+------------+--------------+----------+----------+--------------------+---------+------------+\n",
            "|        gtin|categoryParent|colorLabel|modelLabel|    productLabelLong|sizeLabel| productCode|\n",
            "+------------+--------------+----------+----------+--------------------+---------+------------+\n",
            "|713610167277|      960-SWIM|       112|  CUKFA048|SS T/C SLUB V-NEC...|      XXL|713610167277|\n",
            "|713610167277|      960-SWIM|       112|  CUKFA048|SS T/C SLUB V-NEC...|      XXL|713610167277|\n",
            "|795570651201|    742-SHORTS|       429|  4DSH7750|ST SLD TECH SHRT ...|       33|795570651201|\n",
            "|795570651201|    742-SHORTS|       429|  4DSH7750|ST SLD TECH SHRT ...|       33|795570651201|\n",
            "|795570651201|    742-SHORTS|       429|  4DSH7750|ST SLD TECH SHRT ...|       33|795570651201|\n",
            "|795570651201|    742-SHORTS|       429|  4DSH7750|ST SLD TECH SHRT ...|       33|795570651201|\n",
            "|795570651201|    742-SHORTS|       429|  4DSH7750|ST SLD TECH SHRT ...|       33|795570651201|\n",
            "|795570651201|    742-SHORTS|       429|  4DSH7750|ST SLD TECH SHRT ...|       33|795570651201|\n",
            "|795570651201|    742-SHORTS|       429|  4DSH7750|ST SLD TECH SHRT ...|       33|795570651201|\n",
            "|795570651201|    742-SHORTS|       429|  4DSH7750|ST SLD TECH SHRT ...|       33|795570651201|\n",
            "|795570651201|    742-SHORTS|       429|  4DSH7750|ST SLD TECH SHRT ...|       33|795570651201|\n",
            "|795570651201|    742-SHORTS|       429|  4DSH7750|ST SLD TECH SHRT ...|       33|795570651201|\n",
            "|795570651201|    742-SHORTS|       429|  4DSH7750|ST SLD TECH SHRT ...|       33|795570651201|\n",
            "|795570651201|    742-SHORTS|       429|  4DSH7750|ST SLD TECH SHRT ...|       33|795570651201|\n",
            "|795570651201|    742-SHORTS|       429|  4DSH7750|ST SLD TECH SHRT ...|       33|795570651201|\n",
            "|795570651201|    742-SHORTS|       429|  4DSH7750|ST SLD TECH SHRT ...|       33|795570651201|\n",
            "|795570651201|    742-SHORTS|       429|  4DSH7750|ST SLD TECH SHRT ...|       33|795570651201|\n",
            "|795570651201|    742-SHORTS|       429|  4DSH7750|ST SLD TECH SHRT ...|       33|795570651201|\n",
            "|795570651201|    742-SHORTS|       429|  4DSH7750|ST SLD TECH SHRT ...|       33|795570651201|\n",
            "|795570651201|    742-SHORTS|       429|  4DSH7750|ST SLD TECH SHRT ...|       33|795570651201|\n",
            "+------------+--------------+----------+----------+--------------------+---------+------------+\n",
            "only showing top 20 rows\n",
            "\n"
          ]
        }
      ]
    },
    {
      "cell_type": "markdown",
      "source": [
        "## Read various files at once"
      ],
      "metadata": {
        "id": "IXiAP2vi7xsZ"
      }
    },
    {
      "cell_type": "code",
      "source": [
        "sales1 = (spark.read.format(\"csv\")\n",
        "  .option(\"header\", \"true\")\n",
        "  .option(\"inferSchema\", \"true\")\n",
        "  .load('/content/drive/MyDrive/renan_coderoad_databootcamp_2025/data/SALES_2024*.csv')\n",
        "  )\n",
        "\n",
        "sales1.show()"
      ],
      "metadata": {
        "colab": {
          "base_uri": "https://localhost:8080/"
        },
        "id": "f32zUbXC7rKa",
        "outputId": "005c0228-ec85-43a3-febb-2412c67e6d1d"
      },
      "execution_count": null,
      "outputs": [
        {
          "output_type": "stream",
          "name": "stdout",
          "text": [
            "+----------+---------+------------+---------+\n",
            "|      date|site_code|         sku|sales_qty|\n",
            "+----------+---------+------------+---------+\n",
            "|2024-11-12|      510|        NULL|      129|\n",
            "|2024-11-12|      510| 15712056634|        1|\n",
            "|2024-11-12|      510| 15712064271|        2|\n",
            "|2024-11-12|      510| 15712078018|        1|\n",
            "|2024-11-12|      510| 30672047225|        1|\n",
            "|2024-11-12|      510| 30672892160|        1|\n",
            "|2024-11-12|      510| 30672929972|        1|\n",
            "|2024-11-12|      510| 30672930022|        1|\n",
            "|2024-11-12|      510|611318681944|        1|\n",
            "|2024-11-12|      510|795570226706|        1|\n",
            "|2024-11-12|      510|795570388909|        1|\n",
            "|2024-11-12|      510|795570511062|        1|\n",
            "|2024-11-12|      510|795570511116|        1|\n",
            "|2024-11-12|      510|795570602746|        1|\n",
            "|2024-11-12|      510|795570623796|        1|\n",
            "|2024-11-12|      510|795570643282|        1|\n",
            "|2024-11-12|      510|795570643343|        1|\n",
            "|2024-11-12|      510|795570789621|        1|\n",
            "|2024-11-12|      510|795570790115|        1|\n",
            "|2024-11-12|      510|795570790207|        1|\n",
            "+----------+---------+------------+---------+\n",
            "only showing top 20 rows\n",
            "\n"
          ]
        }
      ]
    },
    {
      "cell_type": "code",
      "source": [
        "from pyspark.sql.functions import input_file_name\n",
        "\n",
        "sales2 = (spark.read.format(\"csv\")\n",
        "  .option(\"header\", \"true\")\n",
        "  .option(\"inferSchema\", \"true\")\n",
        "  .load('/content/drive/MyDrive/renan_coderoad_databootcamp_2025/data/SALES_2024*.csv')\n",
        "  .withColumn(\"file_name\", input_file_name())\n",
        "  )\n",
        "\n",
        "sales2.show(truncate=False)"
      ],
      "metadata": {
        "colab": {
          "base_uri": "https://localhost:8080/"
        },
        "id": "vggiGc9L-GD0",
        "outputId": "ddab12b5-e871-4e76-bbdd-fa5022ca4f60"
      },
      "execution_count": null,
      "outputs": [
        {
          "output_type": "stream",
          "name": "stdout",
          "text": [
            "+----------+---------+------------+---------+--------------------------------------------------------------------------------------+\n",
            "|date      |site_code|sku         |sales_qty|file_name                                                                             |\n",
            "+----------+---------+------------+---------+--------------------------------------------------------------------------------------+\n",
            "|2024-11-12|510      |NULL        |129      |file:///content/drive/MyDrive/renan_coderoad_databootcamp_2025/data/SALES_20241112.csv|\n",
            "|2024-11-12|510      |15712056634 |1        |file:///content/drive/MyDrive/renan_coderoad_databootcamp_2025/data/SALES_20241112.csv|\n",
            "|2024-11-12|510      |15712064271 |2        |file:///content/drive/MyDrive/renan_coderoad_databootcamp_2025/data/SALES_20241112.csv|\n",
            "|2024-11-12|510      |15712078018 |1        |file:///content/drive/MyDrive/renan_coderoad_databootcamp_2025/data/SALES_20241112.csv|\n",
            "|2024-11-12|510      |30672047225 |1        |file:///content/drive/MyDrive/renan_coderoad_databootcamp_2025/data/SALES_20241112.csv|\n",
            "|2024-11-12|510      |30672892160 |1        |file:///content/drive/MyDrive/renan_coderoad_databootcamp_2025/data/SALES_20241112.csv|\n",
            "|2024-11-12|510      |30672929972 |1        |file:///content/drive/MyDrive/renan_coderoad_databootcamp_2025/data/SALES_20241112.csv|\n",
            "|2024-11-12|510      |30672930022 |1        |file:///content/drive/MyDrive/renan_coderoad_databootcamp_2025/data/SALES_20241112.csv|\n",
            "|2024-11-12|510      |611318681944|1        |file:///content/drive/MyDrive/renan_coderoad_databootcamp_2025/data/SALES_20241112.csv|\n",
            "|2024-11-12|510      |795570226706|1        |file:///content/drive/MyDrive/renan_coderoad_databootcamp_2025/data/SALES_20241112.csv|\n",
            "|2024-11-12|510      |795570388909|1        |file:///content/drive/MyDrive/renan_coderoad_databootcamp_2025/data/SALES_20241112.csv|\n",
            "|2024-11-12|510      |795570511062|1        |file:///content/drive/MyDrive/renan_coderoad_databootcamp_2025/data/SALES_20241112.csv|\n",
            "|2024-11-12|510      |795570511116|1        |file:///content/drive/MyDrive/renan_coderoad_databootcamp_2025/data/SALES_20241112.csv|\n",
            "|2024-11-12|510      |795570602746|1        |file:///content/drive/MyDrive/renan_coderoad_databootcamp_2025/data/SALES_20241112.csv|\n",
            "|2024-11-12|510      |795570623796|1        |file:///content/drive/MyDrive/renan_coderoad_databootcamp_2025/data/SALES_20241112.csv|\n",
            "|2024-11-12|510      |795570643282|1        |file:///content/drive/MyDrive/renan_coderoad_databootcamp_2025/data/SALES_20241112.csv|\n",
            "|2024-11-12|510      |795570643343|1        |file:///content/drive/MyDrive/renan_coderoad_databootcamp_2025/data/SALES_20241112.csv|\n",
            "|2024-11-12|510      |795570789621|1        |file:///content/drive/MyDrive/renan_coderoad_databootcamp_2025/data/SALES_20241112.csv|\n",
            "|2024-11-12|510      |795570790115|1        |file:///content/drive/MyDrive/renan_coderoad_databootcamp_2025/data/SALES_20241112.csv|\n",
            "|2024-11-12|510      |795570790207|1        |file:///content/drive/MyDrive/renan_coderoad_databootcamp_2025/data/SALES_20241112.csv|\n",
            "+----------+---------+------------+---------+--------------------------------------------------------------------------------------+\n",
            "only showing top 20 rows\n",
            "\n"
          ]
        }
      ]
    },
    {
      "cell_type": "code",
      "source": [
        "sales2.groupBy(\"file_name\").count().show(truncate=False)"
      ],
      "metadata": {
        "colab": {
          "base_uri": "https://localhost:8080/"
        },
        "id": "y2WXSpSX-ggA",
        "outputId": "4c8d6e48-903f-4ddf-f7b8-c73cc92f2420"
      },
      "execution_count": null,
      "outputs": [
        {
          "output_type": "stream",
          "name": "stdout",
          "text": [
            "+--------------------------------------------------------------------------------------+-----+\n",
            "|file_name                                                                             |count|\n",
            "+--------------------------------------------------------------------------------------+-----+\n",
            "|file:///content/drive/MyDrive/renan_coderoad_databootcamp_2025/data/SALES_20241112.csv|610  |\n",
            "|file:///content/drive/MyDrive/renan_coderoad_databootcamp_2025/data/SALES_20241113.csv|597  |\n",
            "|file:///content/drive/MyDrive/renan_coderoad_databootcamp_2025/data/SALES_20241114.csv|466  |\n",
            "+--------------------------------------------------------------------------------------+-----+\n",
            "\n"
          ]
        }
      ]
    }
  ]
}