{
  "nbformat": 4,
  "nbformat_minor": 0,
  "metadata": {
    "colab": {
      "provenance": [],
      "include_colab_link": true
    },
    "kernelspec": {
      "name": "python3",
      "display_name": "Python 3"
    },
    "language_info": {
      "name": "python"
    }
  },
  "cells": [
    {
      "cell_type": "markdown",
      "metadata": {
        "id": "view-in-github",
        "colab_type": "text"
      },
      "source": [
        "<a href=\"https://colab.research.google.com/github/fvgm-spec/coderoad-de-bootcamp/blob/main/003_data_filtering.ipynb\" target=\"_parent\"><img src=\"https://colab.research.google.com/assets/colab-badge.svg\" alt=\"Open In Colab\"/></a>"
      ]
    },
    {
      "cell_type": "markdown",
      "source": [
        "## Connect Google Drive"
      ],
      "metadata": {
        "id": "-CzLoSl95Eeb"
      }
    },
    {
      "cell_type": "code",
      "execution_count": null,
      "metadata": {
        "colab": {
          "base_uri": "https://localhost:8080/"
        },
        "id": "Ygl50kti3Pxm",
        "outputId": "9a1ac409-6f7c-41bd-c95f-81eb35e17ba5"
      },
      "outputs": [
        {
          "output_type": "stream",
          "name": "stdout",
          "text": [
            "Mounted at /content/drive\n"
          ]
        }
      ],
      "source": [
        "from google.colab import drive\n",
        "\n",
        "drive.mount('/content/drive')"
      ]
    },
    {
      "cell_type": "code",
      "source": [
        "## Intialize PySpark"
      ],
      "metadata": {
        "id": "cZgKYefL6vSD"
      },
      "execution_count": null,
      "outputs": []
    },
    {
      "cell_type": "code",
      "source": [
        "!pip install pyspark\n",
        "!pip install -q findspark"
      ],
      "metadata": {
        "colab": {
          "base_uri": "https://localhost:8080/"
        },
        "id": "xY6xAyY5Vahg",
        "outputId": "787fa088-c3b0-42d8-f8d4-66c72055339e"
      },
      "execution_count": null,
      "outputs": [
        {
          "output_type": "stream",
          "name": "stdout",
          "text": [
            "Requirement already satisfied: pyspark in /usr/local/lib/python3.11/dist-packages (3.5.4)\n",
            "Requirement already satisfied: py4j==0.10.9.7 in /usr/local/lib/python3.11/dist-packages (from pyspark) (0.10.9.7)\n"
          ]
        }
      ]
    },
    {
      "cell_type": "code",
      "source": [
        "import findspark\n",
        "from pyspark.sql import SparkSession\n",
        "import pyspark\n",
        "\n",
        "findspark.init()\n",
        "spark = SparkSession.builder.master(\"local[*]\").appName(\"Spark Session\").getOrCreate()"
      ],
      "metadata": {
        "id": "CQWFaspUVEXh"
      },
      "execution_count": null,
      "outputs": []
    },
    {
      "cell_type": "markdown",
      "source": [
        "## Read CSV"
      ],
      "metadata": {
        "id": "fCq76GV_7ehg"
      }
    },
    {
      "cell_type": "code",
      "source": [
        "products = (spark.read.format(\"csv\")\n",
        "  .option(\"header\", \"true\")\n",
        "  .option(\"inferSchema\", \"true\")\n",
        "  .load('/content/drive/MyDrive/renan_coderoad_databootcamp_2025/data/PRODUCTS.csv')\n",
        "  )\n",
        "\n",
        "products.printSchema()\n",
        "products.show()"
      ],
      "metadata": {
        "colab": {
          "base_uri": "https://localhost:8080/"
        },
        "id": "1ifQ2_k4VouX",
        "outputId": "77a8053f-8d65-4ee8-ef83-8699d45b1a9d"
      },
      "execution_count": null,
      "outputs": [
        {
          "output_type": "stream",
          "name": "stdout",
          "text": [
            "root\n",
            " |-- gtin: long (nullable = true)\n",
            " |-- categoryParent: string (nullable = true)\n",
            " |-- colorLabel: integer (nullable = true)\n",
            " |-- modelLabel: string (nullable = true)\n",
            " |-- productLabelLong: string (nullable = true)\n",
            " |-- sizeLabel: string (nullable = true)\n",
            " |-- productCode: long (nullable = true)\n",
            "\n",
            "+------------+--------------+----------+----------+--------------------+---------+------------+\n",
            "|        gtin|categoryParent|colorLabel|modelLabel|    productLabelLong|sizeLabel| productCode|\n",
            "+------------+--------------+----------+----------+--------------------+---------+------------+\n",
            "|713610167277|      960-SWIM|       112|  CUKFA048|SS T/C SLUB V-NEC...|      XXL|713610167277|\n",
            "|713610167277|      960-SWIM|       112|  CUKFA048|SS T/C SLUB V-NEC...|      XXL|713610167277|\n",
            "|795570651201|    742-SHORTS|       429|  4DSH7750|ST SLD TECH SHRT ...|       33|795570651201|\n",
            "|795570651201|    742-SHORTS|       429|  4DSH7750|ST SLD TECH SHRT ...|       33|795570651201|\n",
            "|795570651201|    742-SHORTS|       429|  4DSH7750|ST SLD TECH SHRT ...|       33|795570651201|\n",
            "|795570651201|    742-SHORTS|       429|  4DSH7750|ST SLD TECH SHRT ...|       33|795570651201|\n",
            "|795570651201|    742-SHORTS|       429|  4DSH7750|ST SLD TECH SHRT ...|       33|795570651201|\n",
            "|795570651201|    742-SHORTS|       429|  4DSH7750|ST SLD TECH SHRT ...|       33|795570651201|\n",
            "|795570651201|    742-SHORTS|       429|  4DSH7750|ST SLD TECH SHRT ...|       33|795570651201|\n",
            "|795570651201|    742-SHORTS|       429|  4DSH7750|ST SLD TECH SHRT ...|       33|795570651201|\n",
            "|795570651201|    742-SHORTS|       429|  4DSH7750|ST SLD TECH SHRT ...|       33|795570651201|\n",
            "|795570651201|    742-SHORTS|       429|  4DSH7750|ST SLD TECH SHRT ...|       33|795570651201|\n",
            "|795570651201|    742-SHORTS|       429|  4DSH7750|ST SLD TECH SHRT ...|       33|795570651201|\n",
            "|795570651201|    742-SHORTS|       429|  4DSH7750|ST SLD TECH SHRT ...|       33|795570651201|\n",
            "|795570651201|    742-SHORTS|       429|  4DSH7750|ST SLD TECH SHRT ...|       33|795570651201|\n",
            "|795570651201|    742-SHORTS|       429|  4DSH7750|ST SLD TECH SHRT ...|       33|795570651201|\n",
            "|795570651201|    742-SHORTS|       429|  4DSH7750|ST SLD TECH SHRT ...|       33|795570651201|\n",
            "|795570651201|    742-SHORTS|       429|  4DSH7750|ST SLD TECH SHRT ...|       33|795570651201|\n",
            "|795570651201|    742-SHORTS|       429|  4DSH7750|ST SLD TECH SHRT ...|       33|795570651201|\n",
            "|795570651201|    742-SHORTS|       429|  4DSH7750|ST SLD TECH SHRT ...|       33|795570651201|\n",
            "+------------+--------------+----------+----------+--------------------+---------+------------+\n",
            "only showing top 20 rows\n",
            "\n"
          ]
        }
      ]
    },
    {
      "cell_type": "markdown",
      "source": [
        "## Get Categories"
      ],
      "metadata": {
        "id": "kvCv4igSAK-I"
      }
    },
    {
      "cell_type": "code",
      "source": [
        "products.select(\"categoryParent\").distinct().orderBy(\"categoryParent\").show()"
      ],
      "metadata": {
        "colab": {
          "base_uri": "https://localhost:8080/"
        },
        "id": "WU1cMR-z_Uit",
        "outputId": "759eb62c-490d-4b4e-f5ed-1ede817a45cb"
      },
      "execution_count": null,
      "outputs": [
        {
          "output_type": "stream",
          "name": "stdout",
          "text": [
            "+--------------------+\n",
            "|      categoryParent|\n",
            "+--------------------+\n",
            "|          2030-POLOS|\n",
            "|      4010-GOLF TOPS|\n",
            "|4020-GOLF PANT/TR...|\n",
            "|    4050-GOLF SHORTS|\n",
            "|       411-SS WOVENS|\n",
            "|        420-SWEATERS|\n",
            "|           430-POLOS|\n",
            "|        432-T-SHIRTS|\n",
            "|  440-CASUAL BOTTOMS|\n",
            "|          442-SHORTS|\n",
            "|       710-LS WOVENS|\n",
            "|       711-SS WOVENS|\n",
            "|        720-SWEATERS|\n",
            "|           730-POLOS|\n",
            "|        732-T-SHIRTS|\n",
            "|      733-COLLECTION|\n",
            "|  740-CASUAL BOTTOMS|\n",
            "|           741-DENIM|\n",
            "|          742-SHORTS|\n",
            "|   750-DRESS BOTTOMS|\n",
            "+--------------------+\n",
            "only showing top 20 rows\n",
            "\n"
          ]
        }
      ]
    },
    {
      "cell_type": "markdown",
      "source": [],
      "metadata": {
        "id": "wq0_Dt7r_98B"
      }
    },
    {
      "cell_type": "code",
      "source": [
        "products.select(\"categoryParent\").distinct().count()"
      ],
      "metadata": {
        "colab": {
          "base_uri": "https://localhost:8080/"
        },
        "id": "TYmsHdMGA8_9",
        "outputId": "5305b80c-2a2c-4269-bb92-91ddff5ed3b6"
      },
      "execution_count": null,
      "outputs": [
        {
          "output_type": "execute_result",
          "data": {
            "text/plain": [
              "39"
            ]
          },
          "metadata": {},
          "execution_count": 7
        }
      ]
    },
    {
      "cell_type": "code",
      "source": [
        "products.select(\"categoryParent\").distinct().orderBy(\"categoryParent\").show(n=39, truncate=False)"
      ],
      "metadata": {
        "colab": {
          "base_uri": "https://localhost:8080/"
        },
        "id": "oiVpid6CBBBP",
        "outputId": "94fb30c9-56be-4365-ab11-4853f5926db7"
      },
      "execution_count": null,
      "outputs": [
        {
          "output_type": "stream",
          "name": "stdout",
          "text": [
            "+----------------------+\n",
            "|categoryParent        |\n",
            "+----------------------+\n",
            "|2030-POLOS            |\n",
            "|4010-GOLF TOPS        |\n",
            "|4020-GOLF PANT/TROUSER|\n",
            "|4050-GOLF SHORTS      |\n",
            "|411-SS WOVENS         |\n",
            "|420-SWEATERS          |\n",
            "|430-POLOS             |\n",
            "|432-T-SHIRTS          |\n",
            "|440-CASUAL BOTTOMS    |\n",
            "|442-SHORTS            |\n",
            "|710-LS WOVENS         |\n",
            "|711-SS WOVENS         |\n",
            "|720-SWEATERS          |\n",
            "|730-POLOS             |\n",
            "|732-T-SHIRTS          |\n",
            "|733-COLLECTION        |\n",
            "|740-CASUAL BOTTOMS    |\n",
            "|741-DENIM             |\n",
            "|742-SHORTS            |\n",
            "|750-DRESS BOTTOMS     |\n",
            "|760-DRESS SHIRTS      |\n",
            "|770-ACCESSORIES       |\n",
            "|771-FOOTWEAR          |\n",
            "|775-LOUNGEWEAR        |\n",
            "|780-OUTERWEAR         |\n",
            "|820-SUIT SEPARATE     |\n",
            "|820-SUIT SEPARATES    |\n",
            "|860-SWIM              |\n",
            "|910-WOVENS            |\n",
            "|911-GUAYABERAS        |\n",
            "|920-SWEATERS          |\n",
            "|930-KNITS             |\n",
            "|940-PANTS             |\n",
            "|942-SHORTS            |\n",
            "|960-SWIM              |\n",
            "|970-ACCESSORIES       |\n",
            "|980-SUIT SEPARATES    |\n",
            "|985-BIG AND TALL      |\n",
            "|999-NON-RETAIL        |\n",
            "+----------------------+\n",
            "\n"
          ]
        }
      ]
    },
    {
      "cell_type": "code",
      "source": [
        "from pyspark.sql.functions import *\n",
        "\n",
        "products.groupBy(\"categoryParent\").count().orderBy(desc(\"count\")).show(39, truncate=False)"
      ],
      "metadata": {
        "colab": {
          "base_uri": "https://localhost:8080/"
        },
        "id": "uNGflw7hAJgo",
        "outputId": "770dd71b-6333-4738-dc9e-4fe1efe8793a"
      },
      "execution_count": null,
      "outputs": [
        {
          "output_type": "stream",
          "name": "stdout",
          "text": [
            "+----------------------+-----+\n",
            "|categoryParent        |count|\n",
            "+----------------------+-----+\n",
            "|820-SUIT SEPARATES    |25407|\n",
            "|750-DRESS BOTTOMS     |15361|\n",
            "|740-CASUAL BOTTOMS    |12319|\n",
            "|771-FOOTWEAR          |11128|\n",
            "|711-SS WOVENS         |9024 |\n",
            "|710-LS WOVENS         |8256 |\n",
            "|730-POLOS             |7868 |\n",
            "|732-T-SHIRTS          |6895 |\n",
            "|770-ACCESSORIES       |5949 |\n",
            "|720-SWEATERS          |3824 |\n",
            "|760-DRESS SHIRTS      |3200 |\n",
            "|910-WOVENS            |3015 |\n",
            "|742-SHORTS            |2732 |\n",
            "|741-DENIM             |2598 |\n",
            "|930-KNITS             |1645 |\n",
            "|980-SUIT SEPARATES    |1625 |\n",
            "|780-OUTERWEAR         |1092 |\n",
            "|733-COLLECTION        |724  |\n",
            "|942-SHORTS            |626  |\n",
            "|960-SWIM              |154  |\n",
            "|911-GUAYABERAS        |128  |\n",
            "|970-ACCESSORIES       |124  |\n",
            "|940-PANTS             |120  |\n",
            "|860-SWIM              |86   |\n",
            "|920-SWEATERS          |56   |\n",
            "|985-BIG AND TALL      |52   |\n",
            "|820-SUIT SEPARATE     |40   |\n",
            "|420-SWEATERS          |36   |\n",
            "|411-SS WOVENS         |28   |\n",
            "|999-NON-RETAIL        |16   |\n",
            "|775-LOUNGEWEAR        |14   |\n",
            "|430-POLOS             |14   |\n",
            "|4050-GOLF SHORTS      |6    |\n",
            "|432-T-SHIRTS          |6    |\n",
            "|442-SHORTS            |4    |\n",
            "|2030-POLOS            |4    |\n",
            "|440-CASUAL BOTTOMS    |2    |\n",
            "|4010-GOLF TOPS        |2    |\n",
            "|4020-GOLF PANT/TROUSER|2    |\n",
            "+----------------------+-----+\n",
            "\n"
          ]
        }
      ]
    },
    {
      "cell_type": "markdown",
      "source": [
        "## Get SUIT SEPARATES"
      ],
      "metadata": {
        "id": "LncADOR6CV6Y"
      }
    },
    {
      "cell_type": "code",
      "source": [
        "products.where(col(\"categoryParent\") == \"820-SUIT SEPARATES\").show(truncate=False)"
      ],
      "metadata": {
        "colab": {
          "base_uri": "https://localhost:8080/"
        },
        "id": "s8oFOmOJA6h9",
        "outputId": "81ebd1d3-3ba6-461a-8c72-a49fc080aa7e"
      },
      "execution_count": null,
      "outputs": [
        {
          "output_type": "stream",
          "name": "stdout",
          "text": [
            "+------------+------------------+----------+----------+---------------------------------------+---------+------------+\n",
            "|gtin        |categoryParent    |colorLabel|modelLabel|productLabelLong                       |sizeLabel|productCode |\n",
            "+------------+------------------+----------+----------+---------------------------------------+---------+------------+\n",
            "|795570514278|820-SUIT SEPARATES|649       |4GFJ4402  |SLM ST EOE WSHBL JCKT - PORT - 4GFJ4402|M40x1RG  |795570514278|\n",
            "|795570514278|820-SUIT SEPARATES|649       |4GFJ4402  |SLM ST EOE WSHBL JCKT - PORT - 4GFJ4402|M40x1RG  |795570514278|\n",
            "|795570514278|820-SUIT SEPARATES|649       |4GFJ4402  |SLM ST EOE WSHBL JCKT - PORT - 4GFJ4402|M40x1RG  |795570514278|\n",
            "|795570514278|820-SUIT SEPARATES|649       |4GFJ4402  |SLM ST EOE WSHBL JCKT - PORT - 4GFJ4402|M40x1RG  |795570514278|\n",
            "|795570514278|820-SUIT SEPARATES|649       |4GFJ4402  |SLM ST EOE WSHBL JCKT - PORT - 4GFJ4402|M40x1RG  |795570514278|\n",
            "|795570514278|820-SUIT SEPARATES|649       |4GFJ4402  |SLM ST EOE WSHBL JCKT - PORT - 4GFJ4402|M40x1RG  |795570514278|\n",
            "|795570514278|820-SUIT SEPARATES|649       |4GFJ4402  |SLM ST EOE WSHBL JCKT - PORT - 4GFJ4402|M40x1RG  |795570514278|\n",
            "|795570514278|820-SUIT SEPARATES|649       |4GFJ4402  |SLM ST EOE WSHBL JCKT - PORT - 4GFJ4402|M40x1RG  |795570514278|\n",
            "|795570514278|820-SUIT SEPARATES|649       |4GFJ4402  |SLM ST EOE WSHBL JCKT - PORT - 4GFJ4402|M40x1RG  |795570514278|\n",
            "|795570514278|820-SUIT SEPARATES|649       |4GFJ4402  |SLM ST EOE WSHBL JCKT - PORT - 4GFJ4402|M40x1RG  |795570514278|\n",
            "|795570514278|820-SUIT SEPARATES|649       |4GFJ4402  |SLM ST EOE WSHBL JCKT - PORT - 4GFJ4402|M40x1RG  |795570514278|\n",
            "|795570514278|820-SUIT SEPARATES|649       |4GFJ4402  |SLM ST EOE WSHBL JCKT - PORT - 4GFJ4402|M40x1RG  |795570514278|\n",
            "|795570514278|820-SUIT SEPARATES|649       |4GFJ4402  |SLM ST EOE WSHBL JCKT - PORT - 4GFJ4402|M40x1RG  |795570514278|\n",
            "|795570514278|820-SUIT SEPARATES|649       |4GFJ4402  |SLM ST EOE WSHBL JCKT - PORT - 4GFJ4402|M40x1RG  |795570514278|\n",
            "|795570514278|820-SUIT SEPARATES|649       |4GFJ4402  |SLM ST EOE WSHBL JCKT - PORT - 4GFJ4402|M40x1RG  |795570514278|\n",
            "|795570514278|820-SUIT SEPARATES|649       |4GFJ4402  |SLM ST EOE WSHBL JCKT - PORT - 4GFJ4402|M40x1RG  |795570514278|\n",
            "|795570551679|820-SUIT SEPARATES|649       |4HFB7702  |SLIM TUX PANT - PORT - 4HFB7702        |29x30    |795570551679|\n",
            "|795570551679|820-SUIT SEPARATES|649       |4HFB7702  |SLIM TUX PANT - PORT - 4HFB7702        |29x30    |795570551679|\n",
            "|795570551679|820-SUIT SEPARATES|649       |4HFB7702  |SLIM TUX PANT - PORT - 4HFB7702        |29x30    |795570551679|\n",
            "|795570551679|820-SUIT SEPARATES|649       |4HFB7702  |SLIM TUX PANT - PORT - 4HFB7702        |29x30    |795570551679|\n",
            "+------------+------------------+----------+----------+---------------------------------------+---------+------------+\n",
            "only showing top 20 rows\n",
            "\n"
          ]
        }
      ]
    },
    {
      "cell_type": "code",
      "source": [
        "products.where(col(\"categoryParent\") == \"820-SUIT SEPARATES\").groupBy(\"productLabelLong\").count().orderBy(desc(\"count\")).show(truncate=False)"
      ],
      "metadata": {
        "colab": {
          "base_uri": "https://localhost:8080/"
        },
        "id": "2Yv8tUCyCp1Z",
        "outputId": "09ef99d3-7fe5-4f8a-a229-af9af6fc2618"
      },
      "execution_count": null,
      "outputs": [
        {
          "output_type": "stream",
          "name": "stdout",
          "text": [
            "+-------------------------------------------------------+-----+\n",
            "|productLabelLong                                       |count|\n",
            "+-------------------------------------------------------+-----+\n",
            "|SLIM LOUIS SUIT PNT - ISLAND FOSSIL - 4IFB7701         |1577 |\n",
            "|SLIM LOUIS SUIT PNT - ALLURE - 4IFB7701                |1419 |\n",
            "|SLIM LOUIS SUIT PNT - NAVY - 4IFB7701                  |1354 |\n",
            "|SLIM LOUIS SUIT PNT - FELT GREY - 4IFB7701             |1327 |\n",
            "|SLIM LOUIS SUIT JKT - FELT GREY - 4IFJ7701             |1248 |\n",
            "|SLIM LOUIS SUIT JKT - BLACK - 4IFJ7701                 |1210 |\n",
            "|SLIM PEAK LPL LOUIS SUIT JKT - ISLAND FOSSIL - 4JSJ7701|1204 |\n",
            "|SLIM LOUIS SUIT JKT - ALLURE - 4IFJ7701                |1177 |\n",
            "|VSLM ST W/R TECH SUIT PNT  - ALLOY - 4CFB7710          |1169 |\n",
            "|SLIM LOUIS SUIT JKT - NAVY - 4IFJ7701                  |1164 |\n",
            "|SLIM LOUIS SUIT PNT - BLACK - 4IFB7701                 |1129 |\n",
            "|SLIM LOUIS SUIT JKT - PINE - 4IFJ7701                  |895  |\n",
            "|SLIM LOUIS SUIT PNT - PINE - 4IFB7701                  |835  |\n",
            "|SLIM LOUIS SUIT PNT - SHADOW - 4IFB7701                |743  |\n",
            "|VSLM ST W/R TECH SUIT PNT - BLACK - 4CFB7710           |738  |\n",
            "|SLIM PEAK LPL LOUIS SUIT JKT - SHADOW - 4JSJ7701       |460  |\n",
            "|SLIM TUX JACKET - BLACK - 4ISJ7703                     |366  |\n",
            "|REG LOUIS SUIT JKT - ALLOY - 4IFJ7700                  |351  |\n",
            "|SLM NEAT KNIT JACKET - BLACK - 4HHJ4410                |336  |\n",
            "|SLIM LOUIS SUIT JKT - ALLOY - 4IFJ7701                 |328  |\n",
            "+-------------------------------------------------------+-----+\n",
            "only showing top 20 rows\n",
            "\n"
          ]
        }
      ]
    },
    {
      "cell_type": "code",
      "source": [],
      "metadata": {
        "id": "U2QSVbxfDthR"
      },
      "execution_count": null,
      "outputs": []
    },
    {
      "cell_type": "code",
      "source": [
        "suits_island_fossil = (\n",
        "    products\n",
        "      .where((col(\"categoryParent\") == \"820-SUIT SEPARATES\") & (col(\"productLabelLong\") == \"SLIM LOUIS SUIT PNT - ISLAND FOSSIL - 4IFB7701\"))\n",
        ")\n",
        "\n",
        "suits_island_fossil.show(truncate=False)"
      ],
      "metadata": {
        "colab": {
          "base_uri": "https://localhost:8080/"
        },
        "id": "PxQ-yRU_DLgT",
        "outputId": "2a840b0e-0cbb-4d42-e6da-33dd04e9d8f5"
      },
      "execution_count": null,
      "outputs": [
        {
          "output_type": "stream",
          "name": "stdout",
          "text": [
            "+-----------+------------------+----------+----------+----------------------------------------------+---------+-----------+\n",
            "|gtin       |categoryParent    |colorLabel|modelLabel|productLabelLong                              |sizeLabel|productCode|\n",
            "+-----------+------------------+----------+----------+----------------------------------------------+---------+-----------+\n",
            "|94833170788|820-SUIT SEPARATES|294       |4IFB7701  |SLIM LOUIS SUIT PNT - ISLAND FOSSIL - 4IFB7701|34x30    |94833170788|\n",
            "|94833170788|820-SUIT SEPARATES|294       |4IFB7701  |SLIM LOUIS SUIT PNT - ISLAND FOSSIL - 4IFB7701|34x30    |94833170788|\n",
            "|94833170788|820-SUIT SEPARATES|294       |4IFB7701  |SLIM LOUIS SUIT PNT - ISLAND FOSSIL - 4IFB7701|34x30    |94833170788|\n",
            "|94833170788|820-SUIT SEPARATES|294       |4IFB7701  |SLIM LOUIS SUIT PNT - ISLAND FOSSIL - 4IFB7701|34x30    |94833170788|\n",
            "|94833170788|820-SUIT SEPARATES|294       |4IFB7701  |SLIM LOUIS SUIT PNT - ISLAND FOSSIL - 4IFB7701|34x30    |94833170788|\n",
            "|94833170788|820-SUIT SEPARATES|294       |4IFB7701  |SLIM LOUIS SUIT PNT - ISLAND FOSSIL - 4IFB7701|34x30    |94833170788|\n",
            "|94833170788|820-SUIT SEPARATES|294       |4IFB7701  |SLIM LOUIS SUIT PNT - ISLAND FOSSIL - 4IFB7701|34x30    |94833170788|\n",
            "|94833170788|820-SUIT SEPARATES|294       |4IFB7701  |SLIM LOUIS SUIT PNT - ISLAND FOSSIL - 4IFB7701|34x30    |94833170788|\n",
            "|94833170788|820-SUIT SEPARATES|294       |4IFB7701  |SLIM LOUIS SUIT PNT - ISLAND FOSSIL - 4IFB7701|34x30    |94833170788|\n",
            "|94833170788|820-SUIT SEPARATES|294       |4IFB7701  |SLIM LOUIS SUIT PNT - ISLAND FOSSIL - 4IFB7701|34x30    |94833170788|\n",
            "|94833170788|820-SUIT SEPARATES|294       |4IFB7701  |SLIM LOUIS SUIT PNT - ISLAND FOSSIL - 4IFB7701|34x30    |94833170788|\n",
            "|94833170788|820-SUIT SEPARATES|294       |4IFB7701  |SLIM LOUIS SUIT PNT - ISLAND FOSSIL - 4IFB7701|34x30    |94833170788|\n",
            "|94833170788|820-SUIT SEPARATES|294       |4IFB7701  |SLIM LOUIS SUIT PNT - ISLAND FOSSIL - 4IFB7701|34x30    |94833170788|\n",
            "|94833170788|820-SUIT SEPARATES|294       |4IFB7701  |SLIM LOUIS SUIT PNT - ISLAND FOSSIL - 4IFB7701|34x30    |94833170788|\n",
            "|94833170788|820-SUIT SEPARATES|294       |4IFB7701  |SLIM LOUIS SUIT PNT - ISLAND FOSSIL - 4IFB7701|34x30    |94833170788|\n",
            "|94833170788|820-SUIT SEPARATES|294       |4IFB7701  |SLIM LOUIS SUIT PNT - ISLAND FOSSIL - 4IFB7701|34x30    |94833170788|\n",
            "|94833170788|820-SUIT SEPARATES|294       |4IFB7701  |SLIM LOUIS SUIT PNT - ISLAND FOSSIL - 4IFB7701|34x30    |94833170788|\n",
            "|94833170788|820-SUIT SEPARATES|294       |4IFB7701  |SLIM LOUIS SUIT PNT - ISLAND FOSSIL - 4IFB7701|34x30    |94833170788|\n",
            "|94833170788|820-SUIT SEPARATES|294       |4IFB7701  |SLIM LOUIS SUIT PNT - ISLAND FOSSIL - 4IFB7701|34x30    |94833170788|\n",
            "|94833170788|820-SUIT SEPARATES|294       |4IFB7701  |SLIM LOUIS SUIT PNT - ISLAND FOSSIL - 4IFB7701|34x30    |94833170788|\n",
            "+-----------+------------------+----------+----------+----------------------------------------------+---------+-----------+\n",
            "only showing top 20 rows\n",
            "\n"
          ]
        }
      ]
    }
  ]
}