{
 "cells": [
  {
   "cell_type": "code",
   "execution_count": 1,
   "id": "c1bc52c0-c1eb-47de-b3e4-d26e11e78b40",
   "metadata": {},
   "outputs": [],
   "source": [
    "import pandas as pd"
   ]
  },
  {
   "cell_type": "code",
   "execution_count": 2,
   "id": "9e7d3278-ef7e-4f6d-b2f9-d6e06e08a3c5",
   "metadata": {},
   "outputs": [],
   "source": [
    "data_path = '../sql/data/'"
   ]
  },
  {
   "cell_type": "code",
   "execution_count": 3,
   "id": "65315d84-26d3-418d-8342-fa1ed7cec072",
   "metadata": {},
   "outputs": [
    {
     "data": {
      "text/html": [
       "<div>\n",
       "<style scoped>\n",
       "    .dataframe tbody tr th:only-of-type {\n",
       "        vertical-align: middle;\n",
       "    }\n",
       "\n",
       "    .dataframe tbody tr th {\n",
       "        vertical-align: top;\n",
       "    }\n",
       "\n",
       "    .dataframe thead th {\n",
       "        text-align: right;\n",
       "    }\n",
       "</style>\n",
       "<table border=\"1\" class=\"dataframe\">\n",
       "  <thead>\n",
       "    <tr style=\"text-align: right;\">\n",
       "      <th></th>\n",
       "      <th>gtin</th>\n",
       "      <th>categoryParent</th>\n",
       "      <th>colorLabel</th>\n",
       "      <th>modelLabel</th>\n",
       "      <th>productLabelLong</th>\n",
       "      <th>sizeLabel</th>\n",
       "      <th>productCode</th>\n",
       "    </tr>\n",
       "  </thead>\n",
       "  <tbody>\n",
       "    <tr>\n",
       "      <th>0</th>\n",
       "      <td>795570602555</td>\n",
       "      <td>710-LS WOVENS</td>\n",
       "      <td>126</td>\n",
       "      <td>4HRW7018</td>\n",
       "      <td>LS SNS DOBBY TEXT - BRIGHT WHITE - 4HRW7018</td>\n",
       "      <td>M</td>\n",
       "      <td>795570602555</td>\n",
       "    </tr>\n",
       "    <tr>\n",
       "      <th>1</th>\n",
       "      <td>795570643275</td>\n",
       "      <td>730-POLOS</td>\n",
       "      <td>10</td>\n",
       "      <td>4HRK7125</td>\n",
       "      <td>SS SLD 3BTN PLO REC - BLACK - 4HRK7125</td>\n",
       "      <td>S</td>\n",
       "      <td>795570643275</td>\n",
       "    </tr>\n",
       "    <tr>\n",
       "      <th>2</th>\n",
       "      <td>713610532624</td>\n",
       "      <td>910-WOVENS</td>\n",
       "      <td>996</td>\n",
       "      <td>CUWFC21B</td>\n",
       "      <td>SS L/C DOBBY CAMP COLLAR SHIRT - SPELLBOUND - ...</td>\n",
       "      <td>3XLT</td>\n",
       "      <td>713610532624</td>\n",
       "    </tr>\n",
       "    <tr>\n",
       "      <th>3</th>\n",
       "      <td>795570983463</td>\n",
       "      <td>710-LS WOVENS</td>\n",
       "      <td>394</td>\n",
       "      <td>4IRW7001</td>\n",
       "      <td>LS NON-IRON TWILL - GOBLIN BLUE - 4IRW7001</td>\n",
       "      <td>XXL</td>\n",
       "      <td>795570983463</td>\n",
       "    </tr>\n",
       "    <tr>\n",
       "      <th>4</th>\n",
       "      <td>795570916591</td>\n",
       "      <td>910-WOVENS</td>\n",
       "      <td>684</td>\n",
       "      <td>C9HW0035</td>\n",
       "      <td>LS LINEN GUAYABERA - PINK DOGWOOD - C9HW0035</td>\n",
       "      <td>L</td>\n",
       "      <td>795570916591</td>\n",
       "    </tr>\n",
       "  </tbody>\n",
       "</table>\n",
       "</div>"
      ],
      "text/plain": [
       "           gtin categoryParent  colorLabel modelLabel  \\\n",
       "0  795570602555  710-LS WOVENS         126   4HRW7018   \n",
       "1  795570643275      730-POLOS          10   4HRK7125   \n",
       "2  713610532624     910-WOVENS         996   CUWFC21B   \n",
       "3  795570983463  710-LS WOVENS         394   4IRW7001   \n",
       "4  795570916591     910-WOVENS         684   C9HW0035   \n",
       "\n",
       "                                    productLabelLong sizeLabel   productCode  \n",
       "0        LS SNS DOBBY TEXT - BRIGHT WHITE - 4HRW7018         M  795570602555  \n",
       "1             SS SLD 3BTN PLO REC - BLACK - 4HRK7125         S  795570643275  \n",
       "2  SS L/C DOBBY CAMP COLLAR SHIRT - SPELLBOUND - ...      3XLT  713610532624  \n",
       "3         LS NON-IRON TWILL - GOBLIN BLUE - 4IRW7001       XXL  795570983463  \n",
       "4       LS LINEN GUAYABERA - PINK DOGWOOD - C9HW0035         L  795570916591  "
      ]
     },
     "execution_count": 3,
     "metadata": {},
     "output_type": "execute_result"
    }
   ],
   "source": [
    "df_products = pd.read_csv(f'{data_path}PRODUCTS_.csv',sep=',')\n",
    "df_products.head()"
   ]
  },
  {
   "cell_type": "code",
   "execution_count": 4,
   "id": "838999d5-3d9e-4f5f-be0d-9d2ce5ae669a",
   "metadata": {},
   "outputs": [
    {
     "data": {
      "text/html": [
       "<div>\n",
       "<style scoped>\n",
       "    .dataframe tbody tr th:only-of-type {\n",
       "        vertical-align: middle;\n",
       "    }\n",
       "\n",
       "    .dataframe tbody tr th {\n",
       "        vertical-align: top;\n",
       "    }\n",
       "\n",
       "    .dataframe thead th {\n",
       "        text-align: right;\n",
       "    }\n",
       "</style>\n",
       "<table border=\"1\" class=\"dataframe\">\n",
       "  <thead>\n",
       "    <tr style=\"text-align: right;\">\n",
       "      <th></th>\n",
       "      <th>date</th>\n",
       "      <th>site_code</th>\n",
       "      <th>sku</th>\n",
       "      <th>sales_qty</th>\n",
       "    </tr>\n",
       "  </thead>\n",
       "  <tbody>\n",
       "    <tr>\n",
       "      <th>0</th>\n",
       "      <td>2024-11-14</td>\n",
       "      <td>524</td>\n",
       "      <td>7.955708e+11</td>\n",
       "      <td>1</td>\n",
       "    </tr>\n",
       "    <tr>\n",
       "      <th>1</th>\n",
       "      <td>2024-11-13</td>\n",
       "      <td>549</td>\n",
       "      <td>9.859310e+10</td>\n",
       "      <td>3</td>\n",
       "    </tr>\n",
       "    <tr>\n",
       "      <th>2</th>\n",
       "      <td>2024-11-14</td>\n",
       "      <td>615</td>\n",
       "      <td>8.497195e+10</td>\n",
       "      <td>1</td>\n",
       "    </tr>\n",
       "    <tr>\n",
       "      <th>3</th>\n",
       "      <td>2024-11-12</td>\n",
       "      <td>524</td>\n",
       "      <td>9.483317e+10</td>\n",
       "      <td>1</td>\n",
       "    </tr>\n",
       "    <tr>\n",
       "      <th>4</th>\n",
       "      <td>2024-11-14</td>\n",
       "      <td>510</td>\n",
       "      <td>8.889878e+11</td>\n",
       "      <td>1</td>\n",
       "    </tr>\n",
       "  </tbody>\n",
       "</table>\n",
       "</div>"
      ],
      "text/plain": [
       "         date  site_code           sku  sales_qty\n",
       "0  2024-11-14        524  7.955708e+11          1\n",
       "1  2024-11-13        549  9.859310e+10          3\n",
       "2  2024-11-14        615  8.497195e+10          1\n",
       "3  2024-11-12        524  9.483317e+10          1\n",
       "4  2024-11-14        510  8.889878e+11          1"
      ]
     },
     "execution_count": 4,
     "metadata": {},
     "output_type": "execute_result"
    }
   ],
   "source": [
    "df_sales = pd.read_csv(f'{data_path}SALES_.csv',sep=',')\n",
    "df_sales.head()"
   ]
  },
  {
   "cell_type": "code",
   "execution_count": 5,
   "id": "05d4a598-cc00-4e5f-8019-95801559f108",
   "metadata": {},
   "outputs": [
    {
     "data": {
      "text/html": [
       "<div>\n",
       "<style scoped>\n",
       "    .dataframe tbody tr th:only-of-type {\n",
       "        vertical-align: middle;\n",
       "    }\n",
       "\n",
       "    .dataframe tbody tr th {\n",
       "        vertical-align: top;\n",
       "    }\n",
       "\n",
       "    .dataframe thead th {\n",
       "        text-align: right;\n",
       "    }\n",
       "</style>\n",
       "<table border=\"1\" class=\"dataframe\">\n",
       "  <thead>\n",
       "    <tr style=\"text-align: right;\">\n",
       "      <th></th>\n",
       "      <th>site_code</th>\n",
       "      <th>sku</th>\n",
       "      <th>quantity</th>\n",
       "      <th>date</th>\n",
       "    </tr>\n",
       "  </thead>\n",
       "  <tbody>\n",
       "    <tr>\n",
       "      <th>0</th>\n",
       "      <td>656</td>\n",
       "      <td>889817847356</td>\n",
       "      <td>1</td>\n",
       "      <td>2024-11-13</td>\n",
       "    </tr>\n",
       "    <tr>\n",
       "      <th>1</th>\n",
       "      <td>656</td>\n",
       "      <td>889817862526</td>\n",
       "      <td>1</td>\n",
       "      <td>2024-11-13</td>\n",
       "    </tr>\n",
       "    <tr>\n",
       "      <th>2</th>\n",
       "      <td>602</td>\n",
       "      <td>795570614480</td>\n",
       "      <td>1</td>\n",
       "      <td>2024-11-13</td>\n",
       "    </tr>\n",
       "    <tr>\n",
       "      <th>3</th>\n",
       "      <td>602</td>\n",
       "      <td>888987937010</td>\n",
       "      <td>1</td>\n",
       "      <td>2024-11-13</td>\n",
       "    </tr>\n",
       "    <tr>\n",
       "      <th>4</th>\n",
       "      <td>526</td>\n",
       "      <td>53475636946</td>\n",
       "      <td>1</td>\n",
       "      <td>2024-11-13</td>\n",
       "    </tr>\n",
       "  </tbody>\n",
       "</table>\n",
       "</div>"
      ],
      "text/plain": [
       "   site_code           sku  quantity        date\n",
       "0        656  889817847356         1  2024-11-13\n",
       "1        656  889817862526         1  2024-11-13\n",
       "2        602  795570614480         1  2024-11-13\n",
       "3        602  888987937010         1  2024-11-13\n",
       "4        526   53475636946         1  2024-11-13"
      ]
     },
     "execution_count": 5,
     "metadata": {},
     "output_type": "execute_result"
    }
   ],
   "source": [
    "df_soh = pd.read_csv(f'{data_path}SOH_.csv',sep=',')\n",
    "df_soh.head()"
   ]
  },
  {
   "cell_type": "code",
   "execution_count": 2,
   "id": "e10214d9-3140-41ad-9c59-4497a1f2b243",
   "metadata": {},
   "outputs": [
    {
     "name": "stdout",
     "output_type": "stream",
     "text": [
      "Requirement already satisfied: duckdb in c:\\python311\\lib\\site-packages (1.2.0)\n"
     ]
    },
    {
     "name": "stderr",
     "output_type": "stream",
     "text": [
      "WARNING: Ignoring invalid distribution ~ip (C:\\Python311\\Lib\\site-packages)\n",
      "WARNING: Ignoring invalid distribution ~ip (C:\\Python311\\Lib\\site-packages)\n",
      "WARNING: Ignoring invalid distribution ~ip (C:\\Python311\\Lib\\site-packages)\n",
      "\n",
      "[notice] A new release of pip is available: 24.3.1 -> 25.0.1\n",
      "[notice] To update, run: python.exe -m pip install --upgrade pip\n"
     ]
    }
   ],
   "source": [
    "!pip install duckdb"
   ]
  },
  {
   "cell_type": "code",
   "execution_count": 2,
   "id": "055b75f3-c58b-496e-832f-a9c7dba3ebb1",
   "metadata": {},
   "outputs": [],
   "source": [
    "import duckdb\n",
    "\n",
    "# Connect to a database (creates a file-based database if it doesn't exist)\n",
    "conn = duckdb.connect('products_sales.db')"
   ]
  },
  {
   "cell_type": "code",
   "execution_count": 3,
   "id": "947a4afe-0a4c-40e4-8009-472cbf28318d",
   "metadata": {},
   "outputs": [
    {
     "data": {
      "text/plain": [
       "<duckdb.DuckDBPyConnection at 0x20b46cb35b0>"
      ]
     },
     "execution_count": 3,
     "metadata": {},
     "output_type": "execute_result"
    }
   ],
   "source": [
    "# Create tables\n",
    "conn.execute(\"\"\"\n",
    "CREATE TABLE PRODUCTS_ (\n",
    "    gtin BIGINT PRIMARY KEY,\n",
    "    categoryParent VARCHAR(50),\n",
    "    colorLabel INT,\n",
    "    modelLabel VARCHAR(20),\n",
    "    productLabelLong VARCHAR(100),\n",
    "    sizeLabel VARCHAR(5),\n",
    "    productCode BIGINT\n",
    ");\n",
    "\"\"\")\n",
    "\n",
    "conn.execute(\"\"\"\n",
    "CREATE TABLE SALES_ (\n",
    "    date DATE,\n",
    "    site_code INT,\n",
    "    sku BIGINT,\n",
    "    sales_qty INT\n",
    ");\n",
    "\"\"\")\n",
    "\n",
    "conn.execute(\"\"\"\n",
    "CREATE TABLE SOH_ (\n",
    "    site_code INT,\n",
    "    sku BIGINT,\n",
    "    quantity INT,\n",
    "    date DATE\n",
    ");\n",
    "\"\"\")"
   ]
  },
  {
   "cell_type": "code",
   "execution_count": 9,
   "id": "6936dd81-3fe8-4542-b7fd-6b6ced9fe748",
   "metadata": {},
   "outputs": [
    {
     "data": {
      "text/plain": [
       "<duckdb.DuckDBPyConnection at 0x20b46cb35b0>"
      ]
     },
     "execution_count": 9,
     "metadata": {},
     "output_type": "execute_result"
    }
   ],
   "source": [
    "# Load SALES_ data\n",
    "conn.execute(\"\"\"\n",
    "    COPY SALES_ FROM 'data/SALES_.csv' (AUTO_DETECT TRUE, HEADER TRUE);\n",
    "\"\"\")"
   ]
  },
  {
   "cell_type": "code",
   "execution_count": 11,
   "id": "64e8e366-f9e8-4399-bf66-f80834fb7ba3",
   "metadata": {},
   "outputs": [
    {
     "data": {
      "text/plain": [
       "<duckdb.DuckDBPyConnection at 0x20b46cb35b0>"
      ]
     },
     "execution_count": 11,
     "metadata": {},
     "output_type": "execute_result"
    }
   ],
   "source": [
    "# Load PRODUCTS_ data\n",
    "conn.execute(\"\"\"\n",
    "    COPY PRODUCTS_ FROM 'data/PRODUCTS_.csv' (AUTO_DETECT TRUE, HEADER TRUE);\n",
    "\"\"\")\n",
    "\n",
    "# Load SOH_ data\n",
    "conn.execute(\"\"\"\n",
    "    COPY SOH_ FROM 'data/SOH_.csv' (AUTO_DETECT TRUE, HEADER TRUE);\n",
    "\"\"\")"
   ]
  },
  {
   "cell_type": "code",
   "execution_count": 10,
   "id": "1217883c-55e2-4dcd-96ec-042409318e90",
   "metadata": {},
   "outputs": [
    {
     "name": "stdout",
     "output_type": "stream",
     "text": [
      "        date  site_code           sku  sales_qty\n",
      "0 2024-11-14        524  795570789591          1\n",
      "1 2024-11-13        549   98593095718          3\n",
      "2 2024-11-14        615   84971953411          1\n",
      "3 2024-11-12        524   94833171273          1\n",
      "4 2024-11-14        510  888987766696          1\n"
     ]
    }
   ],
   "source": [
    "print(conn.execute(\"SELECT * FROM SALES_ LIMIT 5\").fetchdf())"
   ]
  },
  {
   "cell_type": "code",
   "execution_count": 12,
   "id": "3b674cdb-bfaf-4b0a-898a-97026ee8f95d",
   "metadata": {},
   "outputs": [
    {
     "name": "stdout",
     "output_type": "stream",
     "text": [
      "           gtin categoryParent  colorLabel modelLabel  \\\n",
      "0  795570602555  710-LS WOVENS         126   4HRW7018   \n",
      "1  795570643275      730-POLOS          10   4HRK7125   \n",
      "2  713610532624     910-WOVENS         996   CUWFC21B   \n",
      "3  795570983463  710-LS WOVENS         394   4IRW7001   \n",
      "4  795570916591     910-WOVENS         684   C9HW0035   \n",
      "\n",
      "                                    productLabelLong sizeLabel   productCode  \n",
      "0        LS SNS DOBBY TEXT - BRIGHT WHITE - 4HRW7018         M  795570602555  \n",
      "1             SS SLD 3BTN PLO REC - BLACK - 4HRK7125         S  795570643275  \n",
      "2  SS L/C DOBBY CAMP COLLAR SHIRT - SPELLBOUND - ...      3XLT  713610532624  \n",
      "3         LS NON-IRON TWILL - GOBLIN BLUE - 4IRW7001       XXL  795570983463  \n",
      "4       LS LINEN GUAYABERA - PINK DOGWOOD - C9HW0035         L  795570916591  \n"
     ]
    }
   ],
   "source": [
    "print(conn.execute(\"SELECT * FROM PRODUCTS_ LIMIT 5\").fetchdf())"
   ]
  },
  {
   "cell_type": "code",
   "execution_count": 13,
   "id": "bf0703f6-d4cc-45ae-a1e0-5c11c5a87762",
   "metadata": {},
   "outputs": [
    {
     "name": "stdout",
     "output_type": "stream",
     "text": [
      "   site_code           sku  quantity       date\n",
      "0        656  889817847356         1 2024-11-13\n",
      "1        656  889817862526         1 2024-11-13\n",
      "2        602  795570614480         1 2024-11-13\n",
      "3        602  888987937010         1 2024-11-13\n",
      "4        526   53475636946         1 2024-11-13\n"
     ]
    }
   ],
   "source": [
    "print(conn.execute(\"SELECT * FROM SOH_ LIMIT 5\").fetchdf())"
   ]
  },
  {
   "cell_type": "code",
   "execution_count": 14,
   "id": "d1d2140d-dbff-429c-b769-d81b272e1b41",
   "metadata": {},
   "outputs": [],
   "source": [
    "##1. Products with sales but no stock at any site\n",
    "\n",
    "products_with_sales = \"WITH latest_stock AS ( \\\n",
    "                            SELECT DISTINCT sku \\\n",
    "                            FROM SOH_ \\\n",
    "                                WHERE date = (SELECT MAX(date) FROM SOH_) \\\n",
    "                                AND quantity > 0 \\\n",
    "                                ) \\\n",
    "                                    SELECT DISTINCT \\\n",
    "                                        s.sku, \\\n",
    "                                        p.productLabelLong, \\\n",
    "                                        p.categoryParent \\\n",
    "                                    FROM SALES_ s \\\n",
    "                                    LEFT JOIN latest_stock ls ON s.sku = ls.sku \\\n",
    "                                    JOIN PRODUCTS_ p ON s.sku = p.gtin \\\n",
    "                                    WHERE ls.sku IS NULL;\""
   ]
  },
  {
   "cell_type": "code",
   "execution_count": 15,
   "id": "3fe15d72-2a01-4d88-a84d-4dcf8896b27c",
   "metadata": {},
   "outputs": [
    {
     "name": "stdout",
     "output_type": "stream",
     "text": [
      "            sku                                 productLabelLong  \\\n",
      "0  795570518979             SS TEXT BLCK CREW - EGRET - 4HSK7152   \n",
      "1  795570519037  SS TEXT BLCK CREW - BITTER CHOCOLATE - 4HSK7152   \n",
      "\n",
      "  categoryParent  \n",
      "0   732-T-SHIRTS  \n",
      "1   732-T-SHIRTS  \n"
     ]
    }
   ],
   "source": [
    "print(conn.execute(products_with_sales).fetchdf())"
   ]
  },
  {
   "cell_type": "code",
   "execution_count": 16,
   "id": "1c24f5bd-86fe-4242-9caf-36642d97902a",
   "metadata": {},
   "outputs": [],
   "source": [
    "# Close the connection\n",
    "conn.close()"
   ]
  },
  {
   "cell_type": "code",
   "execution_count": null,
   "id": "eb492596-7989-4f6d-a194-75706a3c430d",
   "metadata": {},
   "outputs": [],
   "source": []
  }
 ],
 "metadata": {
  "kernelspec": {
   "display_name": "Python 3 (ipykernel)",
   "language": "python",
   "name": "python3"
  },
  "language_info": {
   "codemirror_mode": {
    "name": "ipython",
    "version": 3
   },
   "file_extension": ".py",
   "mimetype": "text/x-python",
   "name": "python",
   "nbconvert_exporter": "python",
   "pygments_lexer": "ipython3",
   "version": "3.11.4"
  }
 },
 "nbformat": 4,
 "nbformat_minor": 5
}
