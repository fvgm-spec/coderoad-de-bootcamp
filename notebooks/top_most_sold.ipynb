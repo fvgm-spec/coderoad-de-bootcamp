{
  "nbformat": 4,
  "nbformat_minor": 0,
  "metadata": {
    "colab": {
      "provenance": [],
      "authorship_tag": "ABX9TyMGx+GYgQ/CSsaATh/DwAuy",
      "include_colab_link": true
    },
    "kernelspec": {
      "name": "python3",
      "display_name": "Python 3"
    },
    "language_info": {
      "name": "python"
    }
  },
  "cells": [
    {
      "cell_type": "markdown",
      "metadata": {
        "id": "view-in-github",
        "colab_type": "text"
      },
      "source": [
        "<a href=\"https://colab.research.google.com/github/fvgm-spec/coderoad-de-bootcamp/blob/main/top_most_sold.ipynb\" target=\"_parent\"><img src=\"https://colab.research.google.com/assets/colab-badge.svg\" alt=\"Open In Colab\"/></a>"
      ]
    },
    {
      "cell_type": "code",
      "execution_count": null,
      "metadata": {
        "colab": {
          "base_uri": "https://localhost:8080/"
        },
        "id": "OI1LWYc_4QPW",
        "outputId": "dfe5fbad-e533-40fc-f7c9-f0da0490f54c"
      },
      "outputs": [
        {
          "output_type": "stream",
          "name": "stdout",
          "text": [
            "Mounted at /content/drive\n"
          ]
        }
      ],
      "source": [
        "from google.colab import drive\n",
        "\n",
        "drive.mount('/content/drive')"
      ]
    },
    {
      "cell_type": "code",
      "source": [
        "## Intialize PySpark\n",
        "!pip install pyspark\n",
        "!pip install -q findspark"
      ],
      "metadata": {
        "colab": {
          "base_uri": "https://localhost:8080/"
        },
        "id": "3iE5evoe4WTD",
        "outputId": "3ad00329-e70f-4957-b0f1-e34f081cceeb"
      },
      "execution_count": null,
      "outputs": [
        {
          "output_type": "stream",
          "name": "stdout",
          "text": [
            "Requirement already satisfied: pyspark in /usr/local/lib/python3.11/dist-packages (3.5.4)\n",
            "Requirement already satisfied: py4j==0.10.9.7 in /usr/local/lib/python3.11/dist-packages (from pyspark) (0.10.9.7)\n"
          ]
        }
      ]
    },
    {
      "cell_type": "code",
      "source": [
        "import findspark\n",
        "from pyspark.sql import SparkSession\n",
        "from pyspark.sql.functions import sum, col, desc\n",
        "import pyspark\n",
        "\n",
        "findspark.init()\n",
        "spark = SparkSession.builder.master(\"local[*]\").appName(\"Spark Session\").getOrCreate()"
      ],
      "metadata": {
        "id": "7S1REWwQ4lnk"
      },
      "execution_count": null,
      "outputs": []
    },
    {
      "cell_type": "markdown",
      "source": [
        "## Reading CVS fils for Products and Sales"
      ],
      "metadata": {
        "id": "89o4k7WM4uRX"
      }
    },
    {
      "cell_type": "code",
      "source": [
        "products_df = (spark.read.format(\"csv\")\n",
        "  .option(\"header\", \"true\")\n",
        "  .option(\"inferSchema\", \"true\")\n",
        "  .load('/content/drive/MyDrive/data/PRODUCTS_.csv')\n",
        "  )\n",
        "\n",
        "products_df.printSchema()\n",
        "products_df.show()"
      ],
      "metadata": {
        "colab": {
          "base_uri": "https://localhost:8080/"
        },
        "id": "2PWSDuTJ4qQu",
        "outputId": "eeb8bc88-fae8-4022-989b-524092e5ebc4"
      },
      "execution_count": null,
      "outputs": [
        {
          "output_type": "stream",
          "name": "stdout",
          "text": [
            "root\n",
            " |-- gtin: long (nullable = true)\n",
            " |-- categoryParent: string (nullable = true)\n",
            " |-- colorLabel: integer (nullable = true)\n",
            " |-- modelLabel: string (nullable = true)\n",
            " |-- productLabelLong: string (nullable = true)\n",
            " |-- sizeLabel: string (nullable = true)\n",
            " |-- productCode: long (nullable = true)\n",
            "\n",
            "+------------+------------------+----------+----------+--------------------+---------+------------+\n",
            "|        gtin|    categoryParent|colorLabel|modelLabel|    productLabelLong|sizeLabel| productCode|\n",
            "+------------+------------------+----------+----------+--------------------+---------+------------+\n",
            "|795570602555|     710-LS WOVENS|       126|  4HRW7018|LS SNS DOBBY TEXT...|        M|795570602555|\n",
            "|795570643275|         730-POLOS|        10|  4HRK7125|SS SLD 3BTN PLO R...|        S|795570643275|\n",
            "|713610532624|        910-WOVENS|       996|  CUWFC21B|SS L/C DOBBY CAMP...|     3XLT|713610532624|\n",
            "|795570983463|     710-LS WOVENS|       394|  4IRW7001|LS NON-IRON TWILL...|      XXL|795570983463|\n",
            "|795570916591|        910-WOVENS|       684|  C9HW0035|LS LINEN GUAYABER...|        L|795570916591|\n",
            "|740700452210|        910-WOVENS|       460|  C9HW0034|SS LINEN GUAYABER...|      XXL|740700452210|\n",
            "|795570651515|     711-SS WOVENS|        10|  4ISW7034|SS STR FLORAL JAC...|        M|795570651515|\n",
            "|795570551419|820-SUIT SEPARATES|       649|  4HFJ7703|VERY SLIM TUX JAC...|XXX48x2SH|795570551419|\n",
            "|795570987409|820-SUIT SEPARATES|       401|  4IRJ4402|SLIM FASHION PLAI...|  L42x1RG|795570987409|\n",
            "|795570511048|     711-SS WOVENS|        42|  4HFW7074|SS SLM DOTS TS - ...|        M|795570511048|\n",
            "|795570605723|     711-SS WOVENS|       978|  4HHW4004|SS GEO TS - HIGH ...|        M|795570605723|\n",
            "|799016626877|     411-SS WOVENS|       488|  OCWF3006|SS OXFORD AOP RE-...|        L|799016626877|\n",
            "|795570643282|         730-POLOS|        10|  4HRK7125|SS SLD 3BTN PLO R...|        M|795570643282|\n",
            "|795570609851|820-SUIT SEPARATES|       989|  4HRJ4400|SLIM FIT LINEN SU...|  S38x2SH|795570609851|\n",
            "|611318721732| 750-DRESS BOTTOMS|       468|  5RSB0041|SLM MST PLY SLD E...|    32x34|611318721732|\n",
            "|888987791902|   770-ACCESSORIES|       600|  3P931082|SANTORD PAISLEY -...|       NS|888987791902|\n",
            "|713610450041|      920-SWEATERS|       489|  CUKFD031|LS JACQUARD CREW ...|        S|713610450041|\n",
            "|888987766733|   770-ACCESSORIES|       100|  3PB22304|LARGE SATIN PRE-T...|       NS|888987766733|\n",
            "|795570673357|  760-DRESS SHIRTS|       468|  4ISW3015|LS DRESS YD TONAL...|        S|795570673357|\n",
            "|795570648201|     711-SS WOVENS|       445|  4ISW4031|SS SOFT LARGE FLO...|        S|795570648201|\n",
            "+------------+------------------+----------+----------+--------------------+---------+------------+\n",
            "only showing top 20 rows\n",
            "\n"
          ]
        }
      ]
    },
    {
      "cell_type": "code",
      "source": [
        "sales_df = (spark.read.format(\"csv\")\n",
        "  .option(\"header\", \"true\")\n",
        "  .option(\"inferSchema\", \"true\")\n",
        "  .load('/content/drive/MyDrive/data/SALES_.csv')\n",
        "  )\n",
        "\n",
        "sales_df.printSchema()\n",
        "sales_df.show()"
      ],
      "metadata": {
        "colab": {
          "base_uri": "https://localhost:8080/"
        },
        "id": "fcomAmBQ5kRE",
        "outputId": "0ba51ba9-3d9c-43c9-fe9a-534d9b1cef2f"
      },
      "execution_count": null,
      "outputs": [
        {
          "output_type": "stream",
          "name": "stdout",
          "text": [
            "root\n",
            " |-- date: date (nullable = true)\n",
            " |-- site_code: integer (nullable = true)\n",
            " |-- sku: long (nullable = true)\n",
            " |-- sales_qty: integer (nullable = true)\n",
            "\n",
            "+----------+---------+------------+---------+\n",
            "|      date|site_code|         sku|sales_qty|\n",
            "+----------+---------+------------+---------+\n",
            "|2024-11-14|      524|795570789591|        1|\n",
            "|2024-11-13|      549| 98593095718|        3|\n",
            "|2024-11-14|      615| 84971953411|        1|\n",
            "|2024-11-12|      524| 94833171273|        1|\n",
            "|2024-11-14|      510|888987766696|        1|\n",
            "|2024-11-13|      613|795570036558|        1|\n",
            "|2024-11-12|      601| 15712078292|        1|\n",
            "|2024-11-12|      543|795570790726|        1|\n",
            "|2024-11-12|      613|795570930368|        1|\n",
            "|2024-11-12|      523| 15712069351|        1|\n",
            "|2024-11-13|      522| 15712078049|        1|\n",
            "|2024-11-12|      566| 15712078285|        1|\n",
            "|2024-11-12|      564| 84971909791|        1|\n",
            "|2024-11-12|      656|889817491467|        1|\n",
            "|2024-11-14|      549| 94833171679|        1|\n",
            "|2024-11-13|      541| 94833167511|        1|\n",
            "|2024-11-12|      561| 15712035752|        1|\n",
            "|2024-11-14|      526|795570389814|        1|\n",
            "|2024-11-13|      606|795570388961|        1|\n",
            "|2024-11-14|      561|611318612641|        1|\n",
            "+----------+---------+------------+---------+\n",
            "only showing top 20 rows\n",
            "\n"
          ]
        }
      ]
    },
    {
      "cell_type": "code",
      "source": [
        "# Print schema of dataframes to verify data types\n",
        "print(\"Sales DataFrame Schema:\")\n",
        "sales_df.printSchema()\n",
        "\n",
        "print(\"Products DataFrame Schema:\")\n",
        "products_df.printSchema()"
      ],
      "metadata": {
        "colab": {
          "base_uri": "https://localhost:8080/"
        },
        "id": "hNxuhj-l5_Fy",
        "outputId": "3da6333a-7039-476e-8510-9830f39b435f"
      },
      "execution_count": null,
      "outputs": [
        {
          "output_type": "stream",
          "name": "stdout",
          "text": [
            "Sales DataFrame Schema:\n",
            "root\n",
            " |-- date: date (nullable = true)\n",
            " |-- site_code: integer (nullable = true)\n",
            " |-- sku: long (nullable = true)\n",
            " |-- sales_qty: integer (nullable = true)\n",
            "\n",
            "Products DataFrame Schema:\n",
            "root\n",
            " |-- gtin: long (nullable = true)\n",
            " |-- categoryParent: string (nullable = true)\n",
            " |-- colorLabel: integer (nullable = true)\n",
            " |-- modelLabel: string (nullable = true)\n",
            " |-- productLabelLong: string (nullable = true)\n",
            " |-- sizeLabel: string (nullable = true)\n",
            " |-- productCode: long (nullable = true)\n",
            "\n"
          ]
        }
      ]
    },
    {
      "cell_type": "code",
      "source": [
        "# Clean the sales data - filter out null SKUs\n",
        "valid_sales_df = sales_df.filter(col(\"sku\").isNotNull())"
      ],
      "metadata": {
        "id": "ePdVn3Tf8OI0"
      },
      "execution_count": null,
      "outputs": []
    },
    {
      "cell_type": "code",
      "source": [
        "# Aggregate sales data to get total sales quantity by SKU\n",
        "sales_by_sku = valid_sales_df.groupBy(\"sku\") \\\n",
        "    .agg(sum(\"sales_qty\").alias(\"total_sales\")) \\\n",
        "    .orderBy(desc(\"total_sales\"))"
      ],
      "metadata": {
        "id": "Jjx8SH_S8oLL"
      },
      "execution_count": null,
      "outputs": []
    },
    {
      "cell_type": "code",
      "source": [
        "# Show top sales results\n",
        "print(\"Top SKUs by Sales Quantity:\")\n",
        "sales_by_sku.show(10)"
      ],
      "metadata": {
        "colab": {
          "base_uri": "https://localhost:8080/"
        },
        "id": "JRVniQJa8r5r",
        "outputId": "fea9847d-b669-45c1-dada-8948e05b1b21"
      },
      "execution_count": null,
      "outputs": [
        {
          "output_type": "stream",
          "name": "stdout",
          "text": [
            "Top SKUs by Sales Quantity:\n",
            "+------------+-----------+\n",
            "|         sku|total_sales|\n",
            "+------------+-----------+\n",
            "| 98593095718|         19|\n",
            "| 94833167559|         14|\n",
            "|888987484637|         13|\n",
            "|795570226706|          9|\n",
            "| 30672047225|          9|\n",
            "|795570511062|          9|\n",
            "| 98593212146|          8|\n",
            "|795570226720|          8|\n",
            "| 94833167542|          8|\n",
            "| 15712078292|          8|\n",
            "+------------+-----------+\n",
            "only showing top 10 rows\n",
            "\n"
          ]
        }
      ]
    },
    {
      "cell_type": "code",
      "source": [
        "# Join sales data with products data to get categories\n",
        "sales_with_categories = sales_by_sku.join(\n",
        "    products_df.select(\"productCode\", \"categoryParent\"),\n",
        "    sales_by_sku[\"sku\"] == products_df[\"productCode\"],\n",
        "    \"inner\"\n",
        ")"
      ],
      "metadata": {
        "id": "299nEOOX8uj6"
      },
      "execution_count": null,
      "outputs": []
    },
    {
      "cell_type": "code",
      "source": [
        "# Get the top 2 products with their categories\n",
        "top_2_products = sales_with_categories.orderBy(desc(\"total_sales\")).limit(2)"
      ],
      "metadata": {
        "id": "qBGXPl7t85Aq"
      },
      "execution_count": null,
      "outputs": []
    },
    {
      "cell_type": "code",
      "source": [
        "# Show final results\n",
        "print(\"Top 2 Most Sold Products with Parent Categories:\")\n",
        "top_2_products.select(\"sku\", \"total_sales\", \"categoryParent\").show()\n",
        "\n",
        "# Display categories only\n",
        "print(\"Parent Categories of Top 2 Most Sold Products:\")\n",
        "top_2_products.select(\"categoryParent\").show()"
      ],
      "metadata": {
        "id": "g8ZqNmgt88CD",
        "outputId": "2e200639-6919-4345-9744-4c3aca73873d",
        "colab": {
          "base_uri": "https://localhost:8080/"
        }
      },
      "execution_count": null,
      "outputs": [
        {
          "output_type": "stream",
          "name": "stdout",
          "text": [
            "Top 2 Most Sold Products with Parent Categories:\n",
            "+------------+-----------+---------------+\n",
            "|         sku|total_sales| categoryParent|\n",
            "+------------+-----------+---------------+\n",
            "| 94833167559|         14|  710-LS WOVENS|\n",
            "|888987484637|         13|770-ACCESSORIES|\n",
            "+------------+-----------+---------------+\n",
            "\n",
            "Parent Categories of Top 2 Most Sold Products:\n",
            "+---------------+\n",
            "| categoryParent|\n",
            "+---------------+\n",
            "|  710-LS WOVENS|\n",
            "|770-ACCESSORIES|\n",
            "+---------------+\n",
            "\n"
          ]
        }
      ]
    },
    {
      "cell_type": "code",
      "source": [],
      "metadata": {
        "id": "Ms9SoqT08-vG"
      },
      "execution_count": null,
      "outputs": []
    }
  ]
}